{
 "cells": [
  {
   "cell_type": "code",
   "execution_count": 2,
   "id": "0989ad70",
   "metadata": {},
   "outputs": [],
   "source": [
    "import numpy as np\n",
    "import sys"
   ]
  },
  {
   "cell_type": "code",
   "execution_count": 16,
   "id": "6f9d070c",
   "metadata": {},
   "outputs": [],
   "source": [
    "import time"
   ]
  },
  {
   "cell_type": "code",
   "execution_count": 162,
   "id": "c431c85e",
   "metadata": {},
   "outputs": [],
   "source": [
    "f = open('data/ks_4_0')"
   ]
  },
  {
   "cell_type": "code",
   "execution_count": 163,
   "id": "6b529297",
   "metadata": {},
   "outputs": [
    {
     "data": {
      "text/plain": [
       "'4 11\\n8 4\\n10 5\\n15 8\\n4 3\\n'"
      ]
     },
     "execution_count": 163,
     "metadata": {},
     "output_type": "execute_result"
    }
   ],
   "source": [
    "text = f.read()\n",
    "lines = text.split('\\n')\n",
    "text"
   ]
  },
  {
   "cell_type": "code",
   "execution_count": 163,
   "id": "abcf0c8a",
   "metadata": {},
   "outputs": [
    {
     "name": "stdout",
     "output_type": "stream",
     "text": [
      "[2 1 3 4 2 3 1 2 4 0]\n",
      "[0 1 1 2 2 2 3 3 4 4]\n"
     ]
    },
    {
     "data": {
      "text/plain": [
       "array([2, 1, 3, 4, 2, 3, 1, 2, 4, 0])"
      ]
     },
     "execution_count": 163,
     "metadata": {},
     "output_type": "execute_result"
    }
   ],
   "source": [
    "a = np.random.randint(0,5,10)\n",
    "print(a)\n",
    "sorted_index = np.argsort(a)\n",
    "de_sorted_index = np.argsort(sorted_index)\n",
    "print(a[sorted_index])\n",
    "a[de_sorted_index[sorted_index]]"
   ]
  },
  {
   "cell_type": "code",
   "execution_count": null,
   "id": "7f319850",
   "metadata": {},
   "outputs": [],
   "source": [
    "#bond and brach 2\n",
    "def solver_tree(file_path):\n",
    "    #f = open(file=file_path)\n",
    "    #text = f.read()\n",
    "    text = file_path #eliminar y descomentar las anteriores\n",
    "    lines = text.split('\\n')\n",
    "    #lines.remove('') #descoemntar tambien\n",
    "    first_line = lines[0].split()\n",
    "    n = int(first_line[0]) \n",
    "    K = int(first_line[1])\n",
    "    \n",
    "#     print('n:',n)\n",
    "#     print('K:',K)\n",
    "        \n",
    "    lines = np.array([lines[i].split() for i in range(1,len(lines))]).astype(int)\n",
    "                \n",
    "    lines = np.append(lines,(lines[:,0]/lines[:,1]).reshape(-1,1),axis=1)\n",
    "    \n",
    "    sorted_efficiencies = np.argsort(lines[:,2])[::-1]\n",
    "    \n",
    "    lines  = lines[sorted_efficiencies]\n",
    "    \n",
    "    de_sorted_efficiencies = np.argsort(sorted_efficiencies)\n",
    "    \n",
    "    def relaxed_best(lista_valores,lista_pesos,K):\n",
    "        value = 0\n",
    "        for i in range(len(lista_pesos)):\n",
    "            if lista_pesos[i] < K:\n",
    "                K -= lista_pesos[i]\n",
    "                value += lista_valores[i]\n",
    "            else:\n",
    "                fraction = K/lista_pesos[i]\n",
    "                value += fraction * lista_valores[i]\n",
    "    \n",
    "        return value\n",
    "    \n",
    "    def finder(lista_valores,lista_pesos,lista_eficiencias,valor,K,mejor_previo,lista_decisiones):\n",
    "        estimacion = relaxed_best(lista_valores,lista_pesos,K)\n",
    "        if estimacion > mejor_previo:\n",
    "            "
   ]
  },
  {
   "cell_type": "code",
   "execution_count": 195,
   "id": "35a4f356",
   "metadata": {},
   "outputs": [],
   "source": [
    "#bond and brach\n",
    "def solver_tree(file_path):\n",
    "    #f = open(file=file_path)\n",
    "    #text = f.read()\n",
    "    text = file_path #eliminar y descomentar las anteriores\n",
    "    lines = text.split('\\n')\n",
    "    #lines.remove('') #descoemntar tambien\n",
    "    first_line = lines[0].split()\n",
    "    n = int(first_line[0]) \n",
    "    K = int(first_line[1])\n",
    "    \n",
    "#     print('n:',n)\n",
    "#     print('K:',K)\n",
    "        \n",
    "    lines = np.array([lines[i].split() for i in range(1,len(lines))]).astype(int)\n",
    "                \n",
    "    lines = np.append(lines,(lines[:,0]/lines[:,1]).reshape(-1,1),axis=1)\n",
    "    \n",
    "    sorted_efficiencies = np.argsort(lines[:,2])[::-1]\n",
    "    \n",
    "    lines  = lines[sorted_efficiencies]\n",
    "    \n",
    "    de_sorted_efficiencies = np.argsort(sorted_efficiencies)\n",
    "    \n",
    "    def relaxed_best(lista_valores,lista_pesos,K):\n",
    "        value = 0\n",
    "        for i in range(len(lista_pesos)):\n",
    "            if lista_pesos[i] < K:\n",
    "                K -= lista_pesos[i]\n",
    "                value += lista_valores[i]\n",
    "            else:\n",
    "                fraction = K/lista_pesos[i]\n",
    "                value += fraction * lista_valores[i]\n",
    "    \n",
    "        return value\n",
    "    \n",
    "    class tree():\n",
    "        def __init__(self,lista_valores,lista_pesos,capacidad,lista_decisiones,valor,mejor_calculado,mejores_decisio):\n",
    "            self.lista_valores = lista_valores\n",
    "            self.lista_pesos = lista_pesos\n",
    "            self.capacidad = capacidad\n",
    "            self.lista_decisiones = lista_decisiones.copy()\n",
    "            self.valor = valor\n",
    "            self.mejor_calculado = mejor_calculado\n",
    "            self.nodo_1 = None\n",
    "            self.tree_1 = None\n",
    "            self.nodo_0 = None\n",
    "            self.tree_0 = None\n",
    "            self.node_list = []\n",
    "            self.mejores_decisio = mejores_decisio\n",
    "            \n",
    "        def run(self):\n",
    "            self.nodo_1 = node(lista_valores = self.lista_valores,\n",
    "                               lista_pesos = self.lista_pesos,\n",
    "                               capacidad = self.capacidad,\n",
    "                               valor = self.valor,\n",
    "                               agrego = True,\n",
    "                               lista_decisiones = self.lista_decisiones)\n",
    "            self.nodo_1.calcular()\n",
    "            \n",
    "            #self.node_list.append(self.nodo_1)\n",
    "            \n",
    "            if self.nodo_1.valor > self.mejor_calculado:\n",
    "                self.mejor_calculado = self.nodo_1.valor\n",
    "                self.mejores_decisio = self.nodo_1.lista_decisiones\n",
    "            \n",
    "#             print('node calculation si: c:',self.nodo_1.capacidad,'v:',self.nodo_1.valor,\n",
    "#                   '\\tMejor',self.mejor_calculado,\n",
    "#                   '\\tEstimado:',self.nodo_1.estimacion,\n",
    "#                   ' \\tLista_valores',self.nodo_1.lista_valores,\n",
    "#                   '\\t',self.nodo_1.lista_decisiones)\n",
    "\n",
    "            if ((len(self.lista_valores)>1) & self.nodo_1.nodo_valido) & (self.nodo_1.estimacion > self.mejor_calculado):\n",
    "                self.tree_1 = tree(lista_valores = self.lista_valores[1:],\n",
    "                                   lista_pesos = self.lista_pesos[1:],\n",
    "                                   capacidad = self.nodo_1.capacidad,\n",
    "                                   lista_decisiones = self.nodo_1.lista_decisiones,\n",
    "                                   valor=self.nodo_1.valor,\n",
    "                                   mejor_calculado=self.mejor_calculado,\n",
    "                                   mejores_decisio = self.mejores_decisio)\n",
    "                self.tree_1.run()\n",
    "                \n",
    "                if self.tree_1.mejor_calculado > self.mejor_calculado:\n",
    "                    self.mejor_calculado = self.tree_1.mejor_calculado\n",
    "                    self.mejores_decisio = self.tree_1.mejores_decisio\n",
    "                    \n",
    "                    \n",
    "                #self.node_list.append(self.tree_1.node_list)\n",
    "            else:\n",
    "#                 print('nodo esquivado')\n",
    "                 pass\n",
    "\n",
    "            self.nodo_0 = node(lista_valores = self.lista_valores,\n",
    "                               lista_pesos = self.lista_pesos,\n",
    "                               capacidad = self.capacidad,\n",
    "                               valor = self.valor,\n",
    "                               agrego = False,\n",
    "                               lista_decisiones = self.lista_decisiones)\n",
    "            self.nodo_0.calcular()\n",
    "            \n",
    "            #self.node_list.append(self.nodo_0)\n",
    "            \n",
    "            if self.nodo_0.valor > self.mejor_calculado:\n",
    "                self.mejor_calculado = self.nodo_0.valor\n",
    "                self.mejores_decisio = self.nodo_0.lista_decisiones\n",
    "\n",
    "            \n",
    "#             print('node calculation no: c:',self.nodo_0.capacidad,'v:',self.nodo_0.valor,\n",
    "#                   '\\tMejor',self.mejor_calculado,\n",
    "#                   '\\tEstimado:',\n",
    "#                   self.nodo_0.estimacion,\n",
    "#                   ' \\tLista_valores',self.nodo_0.lista_valores,\n",
    "#                   '\\t',self.nodo_0.lista_decisiones)\n",
    "            \n",
    "            if ((len(self.lista_valores)>2) & self.nodo_0.nodo_valido) & (self.nodo_0.estimacion > self.mejor_calculado):\n",
    "                self.tree_0 = tree(lista_valores = self.lista_valores[1:],\n",
    "                                   lista_pesos = self.lista_pesos[1:],\n",
    "                                   capacidad = self.nodo_0.capacidad,\n",
    "                                   lista_decisiones = self.nodo_0.lista_decisiones,\n",
    "                                   valor=self.nodo_0.valor,\n",
    "                                   mejor_calculado=self.mejor_calculado,\n",
    "                                   mejores_decisio = self.mejores_decisio)\n",
    "                \n",
    "                self.tree_0.run()\n",
    "                if self.tree_0.mejor_calculado > self.mejor_calculado:\n",
    "                    self.mejor_calculado = self.tree_0.mejor_calculado\n",
    "                    self.mejores_decisio = self.tree_0.mejores_decisio\n",
    "\n",
    "            \n",
    "                #self.node_list.append(self.tree_0.node_list)\n",
    "            else:\n",
    "#                 print('nodo esquivado')\n",
    "                 pass\n",
    "            \n",
    "  \n",
    "    class node():\n",
    "        def __init__(self,lista_valores,lista_pesos,capacidad,valor,agrego,lista_decisiones):\n",
    "            self.lista_valores = lista_valores\n",
    "            self.lista_pesos = lista_pesos\n",
    "            self.capacidad = capacidad\n",
    "            self.valor = valor\n",
    "            self.agrego = agrego\n",
    "            self.nodo_valido = True\n",
    "            self.lista_decisiones = lista_decisiones.copy()\n",
    "            \n",
    "                \n",
    "        def calcular(self):\n",
    "            if self.agrego & (self.lista_pesos[0] > self.capacidad):\n",
    "                self.valor = -1\n",
    "                self.capacidad = self.capacidad - self.lista_pesos[0]\n",
    "                self.estimacion = -1\n",
    "                self.nodo_valido = False\n",
    "                self.lista_decisiones.append(-1)\n",
    "            \n",
    "            if self.agrego & self.nodo_valido:\n",
    "                self.estimacion = self.valor + self.lista_valores[0] + relaxed_best(self.lista_valores[1:],self.lista_pesos[1:],self.capacidad)\n",
    "                self.valor += self.lista_valores[0]\n",
    "                self.lista_decisiones.append(1)\n",
    "                self.capacidad = self.capacidad - self.lista_pesos[0]\n",
    "\n",
    "            \n",
    "            elif ~self.agrego & self.nodo_valido:\n",
    "                self.estimacion = self.valor  + relaxed_best(self.lista_valores[1:],self.lista_pesos[1:],self.capacidad)\n",
    "                self.lista_decisiones.append(0)\n",
    "                #self.capacidad = self.capacidad - self.lista_pesos[0]\n",
    "            #print(self.lista_decisiones)\n",
    "\n",
    "                \n",
    "    initial_tree = tree(lista_valores=lines[:,0],lista_pesos=lines[:,1],capacidad=K,lista_decisiones=[],valor=0,mejor_calculado=0,mejores_decisio=[])\n",
    "    initial_tree.run()\n",
    "    \n",
    "    formated_mejores_decisiones = np.concatenate((np.array(initial_tree.mejores_decisio),np.zeros(n-len(initial_tree.mejores_decisio))))#[de_sorted_efficiencies] # a las deciciones, le agrego los 0 que falten, concateno y despues ordeno\n",
    "    formated_mejores_decisiones = formated_mejores_decisiones.astype(int).astype(str)\n",
    "    solution = f'{int(initial_tree.mejor_calculado)} {1}\\n{\" \".join(formated_mejores_decisiones)}'#'{\" \".join(list(traceback_decition_x.astype(str)))}'\n",
    "    \n",
    "    #print(np.append(lines[:,:2][de_sorted_efficiencies].astype(int),formated_mejores_decisiones.astype(int).reshape(-1,1),axis=1))\n",
    "\n",
    "    \n",
    "    return solution\n",
    "    return int(initial_tree.mejor_calculado),list(np.concatenate((np.array(initial_tree.mejores_decisio),np.zeros(n-len(initial_tree.mejores_decisio))))[de_sorted_efficiencies])"
   ]
  },
  {
   "cell_type": "code",
   "execution_count": 260,
   "id": "ce661f8a",
   "metadata": {},
   "outputs": [
    {
     "data": {
      "text/plain": [
       "'25 25\\n47 1\\n2 1\\n35 1\\n30 1\\n48 1\\n14 1\\n19 1\\n45 1\\n23 1\\n6 1\\n39 1\\n46 1\\n24 1\\n39 1\\n21 1\\n13 1\\n32 1\\n8 1\\n7 1\\n24 1\\n30 1\\n12 1\\n30 1\\n22 1\\n12 1'"
      ]
     },
     "execution_count": 260,
     "metadata": {},
     "output_type": "execute_result"
    }
   ],
   "source": [
    "n = 25\n",
    "K = 25\n",
    "items_list = [f'{n} {K}']+[f'{np.random.randint(1,2*n)} {np.random.randint(0,1*K/n)+1}' for i in range(n)]\n",
    "item_string = '\\n'.join(items_list)\n",
    "item_string"
   ]
  },
  {
   "cell_type": "code",
   "execution_count": 246,
   "id": "894afce9",
   "metadata": {},
   "outputs": [
    {
     "name": "stdout",
     "output_type": "stream",
     "text": [
      "611 1\n",
      "1 1 1 1 1 1 1 1 1 1 0 1 1 0 1 0 0 0 0 0 0 0 0 0 0 0 0 0 0 0 0 0 0 0 0 0 0 0 0 0\n",
      "1.3663582801818848\n"
     ]
    }
   ],
   "source": [
    "t0 = time.time()\n",
    "print(solver_tree(item_string))\n",
    "t1 = time.time()\n",
    "print(t1-t0)"
   ]
  },
  {
   "cell_type": "code",
   "execution_count": 247,
   "id": "a5b54e8b",
   "metadata": {},
   "outputs": [
    {
     "name": "stdout",
     "output_type": "stream",
     "text": [
      "611 1\n",
      "1 0 0 0 0 1 0 1 0 0 0 0 0 1 1 0 0 1 1 0 0 1 0 0 1 0 0 0 1 1 1 0 0 0 0 0 1 0 1 0\n",
      "0.08380293846130371\n"
     ]
    }
   ],
   "source": [
    "t0 = time.time()\n",
    "print(solver_O(item_string))\n",
    "t1 = time.time()\n",
    "print(t1-t0)"
   ]
  },
  {
   "cell_type": "code",
   "execution_count": 229,
   "id": "093ee2d2",
   "metadata": {},
   "outputs": [
    {
     "ename": "OSError",
     "evalue": "[Errno 22] Invalid argument: '30 1000\\n4 192\\n4 29\\n22 662\\n31 387\\n34 448\\n33 34\\n34 277\\n14 71\\n4 176\\n2 487\\n25 575\\n13 604\\n6 597\\n20 200\\n6 97\\n42 43\\n10 187\\n43 473\\n21 22\\n53 414\\n5 219\\n7 442\\n47 476\\n9 510\\n55 54\\n20 303\\n25 93\\n30 421\\n22 30\\n41 201'",
     "output_type": "error",
     "traceback": [
      "\u001b[1;31m---------------------------------------------------------------------------\u001b[0m",
      "\u001b[1;31mOSError\u001b[0m                                   Traceback (most recent call last)",
      "\u001b[1;32mC:\\Users\\TOMASM~1\\AppData\\Local\\Temp/ipykernel_24796/314513249.py\u001b[0m in \u001b[0;36m<module>\u001b[1;34m\u001b[0m\n\u001b[1;32m----> 1\u001b[1;33m \u001b[0msolver_O_2\u001b[0m\u001b[1;33m(\u001b[0m\u001b[0mitem_string\u001b[0m\u001b[1;33m)\u001b[0m\u001b[1;33m\u001b[0m\u001b[1;33m\u001b[0m\u001b[0m\n\u001b[0m",
      "\u001b[1;32mC:\\Users\\TOMASM~1\\AppData\\Local\\Temp/ipykernel_24796/2181685839.py\u001b[0m in \u001b[0;36msolver_O_2\u001b[1;34m(file_path)\u001b[0m\n\u001b[0;32m      1\u001b[0m \u001b[1;31m#O(n,K)\u001b[0m\u001b[1;33m\u001b[0m\u001b[1;33m\u001b[0m\u001b[1;33m\u001b[0m\u001b[0m\n\u001b[0;32m      2\u001b[0m \u001b[1;32mdef\u001b[0m \u001b[0msolver_O_2\u001b[0m\u001b[1;33m(\u001b[0m\u001b[0mfile_path\u001b[0m\u001b[1;33m)\u001b[0m\u001b[1;33m:\u001b[0m\u001b[1;33m\u001b[0m\u001b[1;33m\u001b[0m\u001b[0m\n\u001b[1;32m----> 3\u001b[1;33m     \u001b[0mf\u001b[0m \u001b[1;33m=\u001b[0m \u001b[0mopen\u001b[0m\u001b[1;33m(\u001b[0m\u001b[0mfile\u001b[0m\u001b[1;33m=\u001b[0m\u001b[0mfile_path\u001b[0m\u001b[1;33m)\u001b[0m\u001b[1;33m\u001b[0m\u001b[1;33m\u001b[0m\u001b[0m\n\u001b[0m\u001b[0;32m      4\u001b[0m     \u001b[0mtext\u001b[0m \u001b[1;33m=\u001b[0m \u001b[0mf\u001b[0m\u001b[1;33m.\u001b[0m\u001b[0mread\u001b[0m\u001b[1;33m(\u001b[0m\u001b[1;33m)\u001b[0m\u001b[1;33m\u001b[0m\u001b[1;33m\u001b[0m\u001b[0m\n\u001b[0;32m      5\u001b[0m     \u001b[1;31m#text = file_path #eliminar y descomentar las anteriores\u001b[0m\u001b[1;33m\u001b[0m\u001b[1;33m\u001b[0m\u001b[1;33m\u001b[0m\u001b[0m\n",
      "\u001b[1;31mOSError\u001b[0m: [Errno 22] Invalid argument: '30 1000\\n4 192\\n4 29\\n22 662\\n31 387\\n34 448\\n33 34\\n34 277\\n14 71\\n4 176\\n2 487\\n25 575\\n13 604\\n6 597\\n20 200\\n6 97\\n42 43\\n10 187\\n43 473\\n21 22\\n53 414\\n5 219\\n7 442\\n47 476\\n9 510\\n55 54\\n20 303\\n25 93\\n30 421\\n22 30\\n41 201'"
     ]
    }
   ],
   "source": [
    "solver_O_2(item_string)"
   ]
  },
  {
   "cell_type": "code",
   "execution_count": 63,
   "id": "5271d68a",
   "metadata": {},
   "outputs": [],
   "source": [
    "#O(n,K)\n",
    "def solver_O(file_path):\n",
    "    #f = open(file=file_path)\n",
    "    #text = f.read()\n",
    "    text = file_path #eliminar y descomentar las anteriores\n",
    "    lines = text.split('\\n')\n",
    "    #lines.remove('') #descoemntar tambien\n",
    "    first_line = lines[0].split()\n",
    "    n = int(first_line[0]) \n",
    "    K = int(first_line[1])\n",
    "    \n",
    "#     print('n:',n)\n",
    "#     print('K:',K)\n",
    "    \n",
    "    lines = np.array([lines[i].split() for i in range(1,len(lines))]).astype(int)\n",
    "    \n",
    "    #print('Lines:\\n',lines)\n",
    "    \n",
    "    #Planteo de solcion por dynamic programing\n",
    "    \n",
    "    O = np.zeros(shape=(K+1,n),dtype=int)\n",
    "    \n",
    "    for i in range(K+1):\n",
    "        if i >= lines[0,1]:\n",
    "            O[i,0] = lines[0,0]\n",
    "            \n",
    "    for j in range(1,n): #voy columna por columna de la tabla O\n",
    "        #print(j/(n-1)*100,end='\\r') #para ver el avance\n",
    "        if lines[j,1] > K: #Verifico si el objeto es mas grande que la bolsa\n",
    "            O[:K+1,j] = O[:K+1,j-1] #copio la columna entera\n",
    "        else:\n",
    "            O[:lines[j,1],j] = O[:lines[j,1],j-1] #sino copio las filas hasta uno menos que el peso del objeto\n",
    "        for i in range(lines[j,1],K+1): #verifico las filas desde el peso en adelane si mejoro el valos de O\n",
    "            if (O[i,j-1] > O[i-lines[j,1],j-1] + lines[j,0]):\n",
    "                O[i,j] = O[i,j-1]\n",
    "            elif (i - lines[j,1] >= 0):\n",
    "                O[i,j] = O[i-lines[j,1],j-1] + lines[j,0]\n",
    "\n",
    "#     print(O)\n",
    "    \n",
    "    traceback_k = K\n",
    "    traceback_decition_x = np.zeros(n,dtype=int)\n",
    "    for i in range(n-1,-1,-1):\n",
    "        if O[traceback_k,i] != O[traceback_k,i-1]:\n",
    "            traceback_k -= lines[i,1]\n",
    "            traceback_decition_x[i] = 1\n",
    "            #print('traceback_k:',traceback_k)\n",
    "            #print('traceback_decition_x:',traceback_decition_x)\n",
    "                \n",
    "    #print(traceback_decition_x)\n",
    "    \n",
    "    solution = f'{O[K,n-1]} {1}\\n{\" \".join(list(traceback_decition_x.astype(str)))}'\n",
    "    \n",
    "    #print(np.append(lines, traceback_decition_x.reshape(-1,1),axis=1))\n",
    "\n",
    "    \n",
    "    return solution"
   ]
  },
  {
   "cell_type": "code",
   "execution_count": 132,
   "id": "0ba5dc88",
   "metadata": {},
   "outputs": [],
   "source": [
    "#O(n,K)\n",
    "def solver_O_2(file_path):\n",
    "    f = open(file=file_path)\n",
    "    text = f.read()\n",
    "    #text = file_path #eliminar y descomentar las anteriores\n",
    "    lines = text.split('\\n')\n",
    "    lines.remove('') #descoemntar tambien\n",
    "    first_line = lines[0].split()\n",
    "    n = int(first_line[0]) \n",
    "    K = int(first_line[1])\n",
    "    \n",
    "#     print('n:',n)\n",
    "#     print('K:',K)\n",
    "    \n",
    "    lines = np.array([lines[i].split() for i in range(1,len(lines))]).astype(int)\n",
    "    \n",
    "    eficiencies = (lines[:,0]/lines[:,1])\n",
    "    \n",
    "    sorted_efficiencies = np.argsort(eficiencies)[::-1]\n",
    "    \n",
    "    lines  = lines[sorted_efficiencies]\n",
    "    \n",
    "    de_sorted_efficiencies = np.argsort(sorted_efficiencies)   \n",
    "    \n",
    "    #print('Lines:\\n',lines)\n",
    "    \n",
    "    #Planteo de solcion por dynamic programing\n",
    "    \n",
    "    O = np.zeros(shape=(K+1,n),dtype=int)\n",
    "    \n",
    "    for i in range(K+1):\n",
    "        if i >= lines[0,1]:\n",
    "            O[i,0] = lines[0,0]\n",
    "            \n",
    "    for j in range(1,n): #voy columna por columna de la tabla O\n",
    "        #print(j/(n-1)*100,end='\\r') #para ver el avance\n",
    "        if lines[j,1] > K: #Verifico si el objeto es mas grande que la bolsa\n",
    "            O[:K+1,j] = O[:K+1,j-1] #copio la columna entera\n",
    "        else:\n",
    "            O[:lines[j,1],j] = O[:lines[j,1],j-1] #sino copio las filas hasta uno menos que el peso del objeto\n",
    "        for i in range(lines[j,1],K+1): #verifico las filas desde el peso en adelane si mejoro el valos de O\n",
    "            if (O[i,j-1] > O[i-lines[j,1],j-1] + lines[j,0]):\n",
    "                O[i,j] = O[i,j-1]\n",
    "            elif (i - lines[j,1] >= 0):\n",
    "                O[i,j] = O[i-lines[j,1],j-1] + lines[j,0]\n",
    "\n",
    "#     print(O)\n",
    "    \n",
    "    traceback_k = K\n",
    "    traceback_decition_x = np.zeros(n,dtype=int)\n",
    "    for i in range(n-1,-1,-1):\n",
    "        if O[traceback_k,i] != O[traceback_k,i-1]:\n",
    "            traceback_k -= lines[i,1]\n",
    "            traceback_decition_x[i] = 1\n",
    "            #print('traceback_k:',traceback_k)\n",
    "            #print('traceback_decition_x:',traceback_decition_x)\n",
    "                \n",
    "    #print(traceback_decition_x)\n",
    "    \n",
    "    solution = f'{O[K,n-1]} {1}\\n{\" \".join(list(traceback_decition_x[de_sorted_efficiencies].astype(str)))}'\n",
    "    \n",
    "    return solution"
   ]
  },
  {
   "cell_type": "code",
   "execution_count": 380,
   "id": "97fc2f66",
   "metadata": {},
   "outputs": [
    {
     "name": "stdout",
     "output_type": "stream",
     "text": [
      "n: 10\n",
      "K: 10\n"
     ]
    },
    {
     "data": {
      "text/plain": [
       "31.28571428571429"
      ]
     },
     "execution_count": 380,
     "metadata": {},
     "output_type": "execute_result"
    }
   ],
   "source": [
    "solver(item_string)"
   ]
  },
  {
   "cell_type": "code",
   "execution_count": 261,
   "id": "b4eed4d7",
   "metadata": {},
   "outputs": [
    {
     "name": "stdout",
     "output_type": "stream",
     "text": [
      "[[47  1]\n",
      " [ 2  1]\n",
      " [35  1]\n",
      " [30  1]\n",
      " [48  1]\n",
      " [14  1]\n",
      " [19  1]\n",
      " [45  1]\n",
      " [23  1]\n",
      " [ 6  1]\n",
      " [39  1]\n",
      " [46  1]\n",
      " [24  1]\n",
      " [39  1]\n",
      " [21  1]\n",
      " [13  1]\n",
      " [32  1]\n",
      " [ 8  1]\n",
      " [ 7  1]\n",
      " [24  1]\n",
      " [30  1]\n",
      " [12  1]\n",
      " [30  1]\n",
      " [22  1]\n",
      " [12  1]]\n",
      "[[47.  1. 47.]\n",
      " [ 2.  1.  2.]\n",
      " [35.  1. 35.]\n",
      " [30.  1. 30.]\n",
      " [48.  1. 48.]\n",
      " [14.  1. 14.]\n",
      " [19.  1. 19.]\n",
      " [45.  1. 45.]\n",
      " [23.  1. 23.]\n",
      " [ 6.  1.  6.]\n",
      " [39.  1. 39.]\n",
      " [46.  1. 46.]\n",
      " [24.  1. 24.]\n",
      " [39.  1. 39.]\n",
      " [21.  1. 21.]\n",
      " [13.  1. 13.]\n",
      " [32.  1. 32.]\n",
      " [ 8.  1.  8.]\n",
      " [ 7.  1.  7.]\n",
      " [24.  1. 24.]\n",
      " [30.  1. 30.]\n",
      " [12.  1. 12.]\n",
      " [30.  1. 30.]\n",
      " [22.  1. 22.]\n",
      " [12.  1. 12.]]\n",
      "[[48.  1. 48.]\n",
      " [47.  1. 47.]\n",
      " [46.  1. 46.]\n",
      " [45.  1. 45.]\n",
      " [39.  1. 39.]\n",
      " [39.  1. 39.]\n",
      " [35.  1. 35.]\n",
      " [32.  1. 32.]\n",
      " [30.  1. 30.]\n",
      " [30.  1. 30.]\n",
      " [30.  1. 30.]\n",
      " [24.  1. 24.]\n",
      " [24.  1. 24.]\n",
      " [23.  1. 23.]\n",
      " [22.  1. 22.]\n",
      " [21.  1. 21.]\n",
      " [19.  1. 19.]\n",
      " [14.  1. 14.]\n",
      " [13.  1. 13.]\n",
      " [12.  1. 12.]\n",
      " [12.  1. 12.]\n",
      " [ 8.  1.  8.]\n",
      " [ 7.  1.  7.]\n",
      " [ 6.  1.  6.]\n",
      " [ 2.  1.  2.]]\n"
     ]
    },
    {
     "data": {
      "text/plain": [
       "'626 0\\n1 0 1 1 1 1 1 1 1 1 1 1 1 1 1 1 1 1 1 1 1 1 1 1 1'"
      ]
     },
     "execution_count": 261,
     "metadata": {},
     "output_type": "execute_result"
    }
   ],
   "source": [
    "greedy(item_string)"
   ]
  },
  {
   "cell_type": "code",
   "execution_count": 398,
   "id": "238835da",
   "metadata": {},
   "outputs": [
    {
     "name": "stdout",
     "output_type": "stream",
     "text": [
      "[[ 8  4]\n",
      " [10  5]\n",
      " [15  8]\n",
      " [ 4  3]]\n"
     ]
    },
    {
     "data": {
      "text/plain": [
       "'18 0\\n1 1 0 0'"
      ]
     },
     "execution_count": 398,
     "metadata": {},
     "output_type": "execute_result"
    }
   ],
   "source": [
    "greedy('data/ks_4_0')"
   ]
  },
  {
   "cell_type": "code",
   "execution_count": 396,
   "id": "e0aa822b",
   "metadata": {},
   "outputs": [],
   "source": [
    "#Greedy\n",
    "def greedy(file_path):\n",
    "    f = open(file=file_path)\n",
    "    text = f.read()\n",
    "    #text = file_path #eliminar y descomentar las anteriores\n",
    "    lines = text.split('\\n')\n",
    "    lines.remove('') #descoemntar tambien\n",
    "    first_line = lines[0].split()\n",
    "    n = int(first_line[0]) \n",
    "    K = int(first_line[1])\n",
    "    \n",
    "    #  print('n:',n)\n",
    "    #  print('K:',K)\n",
    "    \n",
    "    lines = np.array([lines[i].split() for i in range(1,len(lines))]).astype(int)\n",
    "        \n",
    "    #print(lines)\n",
    "    \n",
    "    lines = np.append(lines,(lines[:,0]/lines[:,1]).reshape(-1,1),axis=1)\n",
    "    \n",
    "    #print(lines)\n",
    "    \n",
    "    sorted_val = np.argsort(lines[:,0])[::-1]\n",
    "    \n",
    "    sorted_ef = np.argsort(lines[sorted_val,2])[::-1]\n",
    "        \n",
    "    sorted_lines = lines[sorted_val,:][sorted_ef,:]\n",
    "    \n",
    "    #print(sorted_lines)\n",
    "    \n",
    "    cargo = 0\n",
    "    value = 0\n",
    "    response = np.zeros(n,dtype=int)\n",
    "        \n",
    "    for i in range(n):\n",
    "        if cargo + sorted_lines[i,1] < K:\n",
    "            cargo += sorted_lines[i,1]\n",
    "            value += sorted_lines[i,0]\n",
    "            response[sorted_val[sorted_ef[i]]] = 1\n",
    "    \n",
    "    solution = f'{value.astype(int)} {0}\\n{\" \".join(list(response.astype(str)))}'\n",
    "    \n",
    "    return solution"
   ]
  },
  {
   "cell_type": "code",
   "execution_count": 388,
   "id": "b33eea61",
   "metadata": {},
   "outputs": [],
   "source": [
    "def greedy_2(file_path):\n",
    "    #f = open(file=file_path)\n",
    "    #text = f.read()\n",
    "    text = file_path #eliminar y descomentar las anteriores\n",
    "    lines = text.split('\\n')\n",
    "    #lines.remove('') #descoemntar tambien\n",
    "    first_line = lines[0].split()\n",
    "    n = int(first_line[0]) \n",
    "    K = int(first_line[1])\n",
    "    \n",
    "#     print('n:',n)\n",
    "#     print('K:',K)\n",
    "    \n",
    "    lines = np.array([lines[i].split() for i in range(1,len(lines))]).astype(int)\n",
    "    \n",
    "    #print(lines)\n",
    "    \n",
    "    lines = np.append(lines,(lines[:,0]/lines[:,1]).reshape(-1,1),axis=1)\n",
    "        \n",
    "    sorted_val = np.argsort(lines[:,0])[::-1]\n",
    "    sorted_wei = np.argsort(lines[:,1])\n",
    "    sorted_eff = np.argsort(lines[:,2])[::-1]\n",
    "    sorted_val_eff = np.lexsort((lines[:,2],lines[:,0]))[::-1]\n",
    "    sorted_eff_val = np.lexsort((lines[:,0],lines[:,2]))[::-1]\n",
    "    sorted_val_wei = np.lexsort((-lines[:,1],lines[:,0]))[::-1]\n",
    "    sorted_wei_val = np.lexsort((lines[:,0],-lines[:,1]))[::-1]\n",
    "    \n",
    "    sorts = [sorted_val,sorted_wei,sorted_eff,sorted_val_eff,sorted_eff_val,sorted_val_wei,sorted_wei_val]\n",
    "    \n",
    "    values = np.array([])\n",
    "    responses = np.array([])\n",
    "    \n",
    "    for i in sorts:\n",
    "        \n",
    "        cargo = 0\n",
    "        value = 0\n",
    "        sorted_lines = lines[i]\n",
    "        response = np.zeros(n,dtype=int)\n",
    "        \n",
    "        for j in range(n):\n",
    "            if cargo + sorted_lines[j,1] < K:\n",
    "                cargo += sorted_lines[j,1]\n",
    "                value += sorted_lines[j,0]\n",
    "                response[i[j]] = 1\n",
    "        \n",
    "        values = np.append(values,value)\n",
    "        responses = np.append(responses,response)\n",
    "        \n",
    "    responses = np.reshape(responses,(len(sorts),-1))\n",
    "    \n",
    "    index = np.argmax(values)\n",
    "    \n",
    "    value = values[index]\n",
    "    response = responses[index]\n",
    "    \n",
    "    solution = f'{value.astype(int)} {0}\\n{\" \".join(list(response.astype(str)))}'\n",
    "    \n",
    "    return solution\n"
   ]
  },
  {
   "cell_type": "code",
   "execution_count": 389,
   "id": "b7594551",
   "metadata": {},
   "outputs": [
    {
     "name": "stdout",
     "output_type": "stream",
     "text": [
      "[[3 5]\n",
      " [1 6]\n",
      " [7 5]\n",
      " [6 1]\n",
      " [1 6]\n",
      " [3 1]\n",
      " [5 8]\n",
      " [7 4]\n",
      " [7 9]\n",
      " [9 5]\n",
      " [3 6]\n",
      " [6 9]\n",
      " [4 8]\n",
      " [1 4]\n",
      " [4 8]\n",
      " [5 3]\n",
      " [2 3]\n",
      " [1 5]\n",
      " [7 1]\n",
      " [5 1]]\n"
     ]
    },
    {
     "data": {
      "text/plain": [
       "'30 0\\n0.0 0.0 0.0 1.0 0.0 1.0 0.0 0.0 0.0 1.0 0.0 0.0 0.0 0.0 0.0 0.0 0.0 0.0 1.0 1.0'"
      ]
     },
     "execution_count": 389,
     "metadata": {},
     "output_type": "execute_result"
    }
   ],
   "source": [
    "greedy_2(item_string)"
   ]
  },
  {
   "cell_type": "code",
   "execution_count": 326,
   "id": "ada209eb",
   "metadata": {},
   "outputs": [
    {
     "data": {
      "text/plain": [
       "'20 10\\n3 5\\n1 6\\n7 5\\n6 1\\n1 6\\n3 1\\n5 8\\n7 4\\n7 9\\n9 5\\n3 6\\n6 9\\n4 8\\n1 4\\n4 8\\n5 3\\n2 3\\n1 5\\n7 1\\n5 1'"
      ]
     },
     "execution_count": 326,
     "metadata": {},
     "output_type": "execute_result"
    }
   ],
   "source": [
    "n = 20\n",
    "K = 10\n",
    "items_list = [f'{n} {K}']+[f'{np.random.randint(1,K)} {np.random.randint(1,K)}' for i in range(n)]\n",
    "item_string = '\\n'.join(items_list)\n",
    "item_string"
   ]
  },
  {
   "cell_type": "code",
   "execution_count": null,
   "id": "78415ae8",
   "metadata": {},
   "outputs": [],
   "source": []
  }
 ],
 "metadata": {
  "kernelspec": {
   "display_name": "Python 3 (ipykernel)",
   "language": "python",
   "name": "python3"
  },
  "language_info": {
   "codemirror_mode": {
    "name": "ipython",
    "version": 3
   },
   "file_extension": ".py",
   "mimetype": "text/x-python",
   "name": "python",
   "nbconvert_exporter": "python",
   "pygments_lexer": "ipython3",
   "version": "3.8.12"
  }
 },
 "nbformat": 4,
 "nbformat_minor": 5
}
